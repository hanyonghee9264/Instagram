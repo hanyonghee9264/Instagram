{
 "cells": [
  {
   "cell_type": "code",
   "execution_count": 1,
   "metadata": {},
   "outputs": [
    {
     "ename": "NameError",
     "evalue": "name 'path' is not defined",
     "output_type": "error",
     "traceback": [
      "\u001b[0;31m---------------------------------------------------------------------------\u001b[0m",
      "\u001b[0;31mNameError\u001b[0m                                 Traceback (most recent call last)",
      "\u001b[0;32m<ipython-input-1-ecc444825fe8>\u001b[0m in \u001b[0;36m<module>\u001b[0;34m\u001b[0m\n\u001b[1;32m      3\u001b[0m \u001b[0;34m\u001b[0m\u001b[0m\n\u001b[1;32m      4\u001b[0m urlpatterns = [\n\u001b[0;32m----> 5\u001b[0;31m     \u001b[0mpath\u001b[0m\u001b[0;34m(\u001b[0m\u001b[0;34m'admin/'\u001b[0m\u001b[0;34m,\u001b[0m \u001b[0madmin\u001b[0m\u001b[0;34m.\u001b[0m\u001b[0msite\u001b[0m\u001b[0;34m.\u001b[0m\u001b[0murls\u001b[0m\u001b[0;34m)\u001b[0m\u001b[0;34m,\u001b[0m\u001b[0;34m\u001b[0m\u001b[0m\n\u001b[0m\u001b[1;32m      6\u001b[0m     \u001b[0;31m# site에 admin으로 끝나는 해당 주소로 넘겨줌\u001b[0m\u001b[0;34m\u001b[0m\u001b[0;34m\u001b[0m\u001b[0m\n\u001b[1;32m      7\u001b[0m     \u001b[0mpath\u001b[0m\u001b[0;34m(\u001b[0m\u001b[0;34m''\u001b[0m\u001b[0;34m,\u001b[0m \u001b[0mviews\u001b[0m\u001b[0;34m.\u001b[0m\u001b[0mindex\u001b[0m\u001b[0;34m,\u001b[0m \u001b[0mname\u001b[0m\u001b[0;34m=\u001b[0m\u001b[0;34m'index'\u001b[0m\u001b[0;34m)\u001b[0m\u001b[0;34m,\u001b[0m\u001b[0;34m\u001b[0m\u001b[0m\n",
      "\u001b[0;31mNameError\u001b[0m: name 'path' is not defined"
     ]
    }
   ],
   "source": [
    "# config/urls.py\n",
    "# RedirectView사용\n",
    "\n",
    "urlpatterns = [\n",
    "    path('admin/', admin.site.urls),\n",
    "    # site에 admin으로 끝나는 해당 주소로 넘겨줌\n",
    "    path('', views.index, name='index'),\n",
    "    # localhots:8000을 입력했을때 보여주려고 함\n",
    "    # 해당 부분은 views.py에 index 함수\n",
    "    # redirect로  ('posts:post-list') 이 부분으로 연결\n",
    "    # name은 index라고 편의성을 위해 지어줌\n",
    "    \n",
    "    # posts:post-list 인 이유는 \n",
    "    # 앞은 app_name이며 뒤는 패턴 name\n",
    "    \n",
    "    \n",
    "    path('', RedirectView.as_view(pattern_name='posts:post-list'), name='index'),\n",
    "    \n",
    "    # 위에처럼 써줘도 같은 내용임\n",
    "    # 위는 제네릭뷰를 이용함\n",
    "    # 제네릭뷰는 as_view라는 함수를 이용\n",
    "    # 제네릭뷰는 공부 더 필요\n",
    "]"
   ]
  },
  {
   "cell_type": "code",
   "execution_count": 2,
   "metadata": {},
   "outputs": [],
   "source": [
    "# config/views.py\n",
    "\n",
    "def index(request):\n",
    "    return redirect('posts:post-list')\n",
    "\n",
    "# urlpatterns를 통해 templete로 이동하려면\n",
    "# views.py를 통해 이동\n",
    "# index라는 함수로 redirect로 url주소 리턴\n"
   ]
  },
  {
   "cell_type": "code",
   "execution_count": 4,
   "metadata": {},
   "outputs": [],
   "source": [
    "# memebers/views.py\n",
    "\n",
    "def signup_view(request):\n",
    "    context = {}\n",
    "    if request.method == 'POST':\n",
    "        form = SignupForm(request.POST)\n",
    "        if form.is_valid():\n",
    "            user = User.objects.create_user(\n",
    "                username=form.cleaned_data['username'],\n",
    "                password=form.cleaned_data['password1'],\n",
    "            )\n",
    "            login(request, user)\n",
    "            return redirect('posts:post-list')\n",
    "    else:\n",
    "        form = SignupForm()\n",
    "    context['form'] = form\n",
    "    return render(request, 'members/signup.html', context)"
   ]
  },
  {
   "cell_type": "code",
   "execution_count": 5,
   "metadata": {},
   "outputs": [],
   "source": [
    "def signup_view(request):\n",
    "    context = {}\n",
    "    if request.method == 'POST':\n",
    "        form = SignupForm(request.POST)\n",
    "        if form.is_valid():\n",
    "            user = User.objects.create_user(\n",
    "                username=form.cleaned_data['username'],\n",
    "                password=form.cleaned_data['password1'],\n",
    "            )\n",
    "            login(request, user)\n",
    "            return redirect('posts:post-list')\n",
    "        \n",
    "    else:\n",
    "        form = SignupForm()\n",
    "    context['form'] = form\n",
    "    return render(request, 'members/signup.html', context)"
   ]
  },
  {
   "cell_type": "code",
   "execution_count": 7,
   "metadata": {},
   "outputs": [],
   "source": [
    "# 커밋 메시지: 데이터 유효성 검증을 제외한 Form 사용\n",
    "def signup_view(request):\n",
    "    context = {}\n",
    "    if request.method == 'POST':\n",
    "        form = SignupForm(request.POST)\n",
    "        if form.is_valid():\n",
    "            user = User.objects.create_user(\n",
    "                username=form.cleaned_data['username'],\n",
    "                password=form.cleaned_data['password1'],\n",
    "            )\n",
    "            login(request, user)\n",
    "            return redirect('posts:post-list')\n",
    "        \n",
    "    else:\n",
    "        form = SignupForm()\n",
    "    context['form'] = form\n",
    "    return render(request, 'members/signup.html', context)"
   ]
  },
  {
   "cell_type": "code",
   "execution_count": 2,
   "metadata": {},
   "outputs": [],
   "source": [
    "# members/forms.py\n",
    "\n",
    "def clean_username(self):\n",
    "    data = self.cleaned_data['username']\n",
    "    if User.objects.filter(username=data).exists():\n",
    "        raise forms.ValidationError('이미 존재하는 아이디입니다')\n",
    "    return data\n",
    "\n",
    "def clean(self):\n",
    "    super().clean()\n",
    "    password1 = self.cleaned_data.get('password1')\n",
    "    password2 = self.cleaned_data.get('password2')\n",
    "    if password1 != password2:\n",
    "        raise forms.ValidationError('비밀번호와 비밀번호 확인란의 값이 다릅니다')"
   ]
  },
  {
   "cell_type": "code",
   "execution_count": 3,
   "metadata": {},
   "outputs": [],
   "source": [
    "def clean_username(self):\n",
    "    data = self.cleaned_data['username']\n",
    "    if User.objects.filter(username=data).exists():\n",
    "        raise forms.ValidtaionError('이미 사용중인 아이디입니다.')\n",
    "    return data\n",
    "\n",
    "def clean(self):\n",
    "    super.clean()\n",
    "    password1 = self.cleaned_data.get('password1')\n",
    "    password2 = self.cleaned_data.get('password2')\n",
    "    if password1 != password2:\n",
    "        raise forms.ValidationError('비밀번호와 비밀번호 확인란의 값이 다릅니다')"
   ]
  },
  {
   "cell_type": "code",
   "execution_count": 4,
   "metadata": {},
   "outputs": [],
   "source": [
    "def signup_view(request):\n",
    "    context = {}\n",
    "    if request.method == 'POST':\n",
    "        form = SignupForm(request.POST)\n",
    "        if form.is_valid():\n",
    "            user = User.objects.create(\n",
    "                username=form.cleaned_data['username'],\n",
    "                password=form.cleaned_data['password1'],\n",
    "            )\n",
    "            login(request, user)\n",
    "            return redirect('posts:post-list')\n",
    "        \n",
    "    else:\n",
    "        form = SignupForm()\n",
    "        context['form'] = form\n",
    "    return render(request, 'members/signup.html', context)"
   ]
  },
  {
   "cell_type": "code",
   "execution_count": 5,
   "metadata": {},
   "outputs": [],
   "source": [
    "def signup_view(request):\n",
    "    context = {}\n",
    "    if request.method == 'POST':\n",
    "        form = SignupForm(reuqest.POST)\n",
    "        if form.is_valid():\n",
    "            user = User.objects.create(\n",
    "                username=form.cleaned_data['username'],\n",
    "                password=form.cleaned_data['password1'],\n",
    "            )\n",
    "            login(request, user)\n",
    "            return redirect('posts:post-list')\n",
    "        \n",
    "    else:\n",
    "        form = SignupForm()\n",
    "        context['form'] = form\n",
    "    return render(request, 'members/signup.html', context)"
   ]
  },
  {
   "cell_type": "code",
   "execution_count": 6,
   "metadata": {},
   "outputs": [],
   "source": [
    "def clean_username(self):\n",
    "    data = self.cleaned_data['username']\n",
    "    if User.objects.filter(username=data).exists():\n",
    "        raise forms.ValidationError('이미 사용중인 사용자입니다.')\n",
    "    return data\n",
    "\n",
    "def clean(self):\n",
    "    super().clean()\n",
    "    password1 = self.cleaned_data.get('password1')\n",
    "    password2 = self.cleaned_data.get('password2')\n",
    "    if password1 != password2:\n",
    "        raise forms.ValidationError('비밀번호와 비밀번호 확인란의 값이 다릅니다.')"
   ]
  },
  {
   "cell_type": "code",
   "execution_count": 2,
   "metadata": {},
   "outputs": [],
   "source": [
    "def clean_password2(self):\n",
    "    password1 = self.clean_data['password1']\n",
    "    password2 = self.clean_data['password2']\n",
    "    if password1 != password2:\n",
    "        raise forms.ValidationError('비밀번호와 비밀번호 확인란의 값이 다릅니다.')\n",
    "    return password2"
   ]
  },
  {
   "cell_type": "code",
   "execution_count": null,
   "metadata": {},
   "outputs": [],
   "source": [
    "def save(self):\n",
    "    if self.errors:\n",
    "        raise VlaueError('폼의 데이터 유효성 검증에 실패했습니다')\n",
    "    user = User.objects.create_user(\n",
    "        username=self.cleaned_data['username'],\n",
    "        password=self.cleaned_data['password2'],\n",
    "    )\n",
    "    return user"
   ]
  },
  {
   "cell_type": "code",
   "execution_count": null,
   "metadata": {},
   "outputs": [],
   "source": []
  }
 ],
 "metadata": {
  "kernelspec": {
   "display_name": "Django Shell-Plus",
   "language": "python",
   "name": "django_extensions"
  },
  "language_info": {
   "codemirror_mode": {
    "name": "ipython",
    "version": 3
   },
   "file_extension": ".py",
   "mimetype": "text/x-python",
   "name": "python",
   "nbconvert_exporter": "python",
   "pygments_lexer": "ipython3",
   "version": "3.6.6"
  }
 },
 "nbformat": 4,
 "nbformat_minor": 2
}
