{
 "cells": [
  {
   "cell_type": "code",
   "execution_count": 1,
   "metadata": {},
   "outputs": [],
   "source": [
    "# posts/views.py\n",
    "\n",
    "def post_create(request):\n",
    "    if request.method == 'POST':\n",
    "        post = Post(\n",
    "            author=User.objects.first(),\n",
    "            photo=request.FILES['photo'],\n",
    "        )\n",
    "        post.save()\n",
    "        return redirect('posts:post-list')\n",
    "    else:\n",
    "        form = PostCreateForm()\n",
    "        context = {\n",
    "            'forms': form,\n",
    "        }\n",
    "        return render(request, 'posts/post_create.html', conext)\n",
    "        "
   ]
  },
  {
   "cell_type": "code",
   "execution_count": 2,
   "metadata": {},
   "outputs": [],
   "source": [
    "# posts/forms.py\n",
    "\n",
    "from django import forms\n",
    "\n",
    "\n",
    "class PostCreateForm(forms.Form):\n",
    "    photo = forms.ImageField(\n",
    "        widget=forms.FileInput(\n",
    "            attrs={\n",
    "                'class': 'form-control-file',\n",
    "            }\n",
    "        )\n",
    "    )\n",
    "    comment = forms.CharField(\n",
    "        # 반드시 채워져 있을 필요는 없음\n",
    "        required=False,\n",
    "        # HTML렌더링 위젯으로 textarea를 사용\n",
    "        widget=forms.Textarea(\n",
    "            attrs={\n",
    "                'class': 'form-control',\n",
    "            }\n",
    "        ),\n",
    "    )"
   ]
  },
  {
   "cell_type": "code",
   "execution_count": null,
   "metadata": {},
   "outputs": [],
   "source": [
    "\n",
    "def post_create(request):\n",
    "    if request.method == 'POST':\n",
    "        post = Post(\n",
    "            author=User.objects.first(),\n",
    "            photo=request.FILES['photo'],\n",
    "        )\n",
    "        post.save()\n",
    "        return redirect('posts:post-list')\n",
    "    else:\n",
    "        form = PostCreateForm()\n",
    "        context = {\n",
    "            'forms': form,\n",
    "        }\n",
    "        return render(request, 'posts/post_create.html', context)\n",
    "    "
   ]
  }
 ],
 "metadata": {
  "kernelspec": {
   "display_name": "Django Shell-Plus",
   "language": "python",
   "name": "django_extensions"
  },
  "language_info": {
   "codemirror_mode": {
    "name": "ipython",
    "version": 3
   },
   "file_extension": ".py",
   "mimetype": "text/x-python",
   "name": "python",
   "nbconvert_exporter": "python",
   "pygments_lexer": "ipython3",
   "version": "3.6.6"
  }
 },
 "nbformat": 4,
 "nbformat_minor": 2
}
